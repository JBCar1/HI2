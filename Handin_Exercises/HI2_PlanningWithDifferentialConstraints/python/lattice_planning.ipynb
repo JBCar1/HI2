{
 "cells": [
  {
   "cell_type": "markdown",
   "metadata": {},
   "source": [
    "# TSFS12 Hand-in Exercise 2: Planning for Vehicles with Differential Motion Constraints --- Motion Planning Using a State Lattice"
   ]
  },
  {
   "cell_type": "code",
   "execution_count": null,
   "metadata": {},
   "outputs": [],
   "source": [
    "import numpy as np\n",
    "import matplotlib.pyplot as plt\n",
    "# Assumes that you have all your planners in the file planners.py\n",
    "from planners import breadth_first, depth_first, dijkstra, astar, best_first\n",
    "from world import BoxWorld\n",
    "from motionprimitives import MotionPrimitives\n",
    "import os\n",
    "from seaborn import despine"
   ]
  },
  {
   "cell_type": "code",
   "execution_count": null,
   "metadata": {},
   "outputs": [],
   "source": [
    "%matplotlib inline\n",
    "# Run instead if you want plots in external windows\n",
    "# %matplotlib  "
   ]
  },
  {
   "cell_type": "code",
   "execution_count": null,
   "metadata": {},
   "outputs": [],
   "source": [
    "# Run the ipython magic below to activate automated import of modules. Useful if you write code in external .py files.\n",
    "# %load_ext autoreload\n",
    "# %autoreload 2"
   ]
  },
  {
   "cell_type": "markdown",
   "metadata": {},
   "source": [
    "# Motion Primitives"
   ]
  },
  {
   "cell_type": "markdown",
   "metadata": {},
   "source": [
    "Run CasADi to pre-compute all motion primitives and save results in a pickle file for later re-use"
   ]
  },
  {
   "cell_type": "code",
   "execution_count": null,
   "metadata": {},
   "outputs": [],
   "source": [
    "file_name = 'mprims.pickle'\n",
    "if os.path.exists(file_name):\n",
    "    mp = MotionPrimitives(file_name)\n",
    "    print(f'Read motion primitives from file {file_name}')\n",
    "else:\n",
    "    # Define the initial states and desired goal states for the motion\n",
    "    # primitives\n",
    "    theta_init = np.array([0, np.pi / 4, np.pi / 2, 3 * np.pi / 4, np.pi, \n",
    "                           -3 * np.pi / 4, -np.pi / 2, -np.pi / 4])\n",
    "\n",
    "    x_vec = np.array([3, 2, 3, 3, 3, 1, 3, 3, 3, 2, 3])\n",
    "    y_vec = np.array([2, 2, 2, 1, 1, 0, -1, -1, -2, -2, -2])\n",
    "    th_vec = np.array([0, np.pi / 4, np.pi / 2, 0, np.pi / 4, 0, -np.pi / 4, \n",
    "                       0, -np.pi / 2, -np.pi / 4, 0])\n",
    "    state_0 = np.column_stack((x_vec, y_vec, th_vec))\n",
    "\n",
    "    # Vehicle parameters and constraints\n",
    "    L = 1.5;        # Wheel base (m)\n",
    "    v = 15;         # Constant velocity (m/s)\n",
    "    u_max = np.pi/4;   # Maximum steering angle (rad)\n",
    "    \n",
    "    # Construct a MotionPrimitives object and generate the \n",
    "    # motion primitives using the constructed lattice and \n",
    "    # specification of the motion primitives\n",
    "    mp = MotionPrimitives()\n",
    "    mp.generate_primitives(theta_init, state_0, L, v, u_max)\n",
    "    mp.save(file_name)"
   ]
  },
  {
   "cell_type": "markdown",
   "metadata": {},
   "source": [
    "Plot the computed motion primitives"
   ]
  },
  {
   "cell_type": "code",
   "execution_count": null,
   "metadata": {},
   "outputs": [],
   "source": [
    "plt.figure(10, clear=True)\n",
    "mp.plot('b', lw=0.5)\n",
    "plt.xlabel('x [m]')\n",
    "plt.ylabel('y [m]')\n",
    "plt.title('Motion primitives')\n",
    "despine()"
   ]
  },
  {
   "cell_type": "markdown",
   "metadata": {},
   "source": [
    "# Define Planning Mission"
   ]
  },
  {
   "cell_type": "markdown",
   "metadata": {},
   "source": [
    "Create world with obstacles using the BoxWorld class"
   ]
  },
  {
   "cell_type": "code",
   "execution_count": null,
   "metadata": {},
   "outputs": [],
   "source": [
    "xx = np.arange(-2, 13)\n",
    "yy = np.arange(-2, 13)\n",
    "th = np.array([0, np.pi / 4, np.pi / 2, 3 * np.pi / 4, np.pi, -3 * np.pi / 4, \n",
    "               -np.pi / 2, -np.pi / 4])\n",
    "\n",
    "world = BoxWorld((xx, yy, th))\n",
    "\n",
    "mission_nbr = 1\n",
    "\n",
    "# Example planning missions\n",
    "\n",
    "if mission_nbr == 1:\n",
    "    world.add_box(0, 1, 2, 4)\n",
    "    world.add_box(0, 6, 6, 4)\n",
    "    world.add_box(4, 1, 6, 4)\n",
    "    world.add_box(7, 7, 3, 3)\n",
    "\n",
    "    start = [0, 0, 0]\n",
    "    goal = [7, 8, np.pi / 2]\n",
    "elif mission_nbr == 2:\n",
    "    world.add_box(0, 1, 3, 4)\n",
    "    world.add_box(0, 7, 10, 3)\n",
    "    world.add_box(4, 1, 6, 4)        \n",
    "\n",
    "    start = [0, 0, 0]\n",
    "    goal = [8, 6, np.pi / 2]\n",
    "elif mission_nbr == 3:\n",
    "    world.add_box(-2, 0, 10, 5)\n",
    "    world.add_box(-2, 6, 10, 4)\n",
    "\n",
    "    start = [0, 5, 0]\n",
    "    goal = [0, 6, np.pi]\n",
    "elif mission_nbr == 4:\n",
    "    world.add_box(0, 3, 10, 2)\n",
    "    world.add_box(0, 5, 4, 2)\n",
    "    world.add_box(6, 5, 4, 2)\n",
    "\n",
    "    start = [5, 7, 0]\n",
    "    goal = [5, 6, 0]\n",
    "\n",
    "\n",
    "arrow_length = 1.\n",
    "arrow_width = 0.075\n",
    "start_arrow = arrow_length * np.array([np.cos(start[2]), np.sin(start[2])])\n",
    "goal_arrow = arrow_length * np.array([np.cos(goal[2]), np.sin(goal[2])])\n",
    "\n",
    "# Define the initial and goal state for the graph search by finding the\n",
    "# node number (column number in world.st_sp) in the world state space\n",
    "\n",
    "mission = {'start': {'id': np.argmin(np.sum((world.st_sp - np.array(start)[:, None])**2, axis=0))},\n",
    "           'goal': {'id': np.argmin(np.sum((world.st_sp - np.array(goal)[:, None])**2, axis=0))}}"
   ]
  },
  {
   "cell_type": "markdown",
   "metadata": {},
   "source": [
    "Plot world and start and goal positions"
   ]
  },
  {
   "cell_type": "code",
   "execution_count": null,
   "metadata": {},
   "outputs": [],
   "source": [
    "plt.figure(20, clear=True)\n",
    "world.draw()\n",
    "plt.xlabel('x')\n",
    "plt.ylabel('y')\n",
    "plt.plot(*start[0:2], 'bo', markersize=8, label=\"start\")\n",
    "plt.plot(*goal[0:2], 'ko', markersize=8, label=\"goal\")\n",
    "plt.arrow(*start[0:2], *start_arrow[0:2], width=arrow_width, edgecolor='b', facecolor='b' )\n",
    "plt.arrow(*goal[0:2], *goal_arrow[0:2], width=arrow_width, edgecolor='k', facecolor='k' )\n",
    "_ = plt.axis([world.xmin, world.xmax, world.ymin, world.ymax])\n",
    "plt.legend()\n",
    "despine()"
   ]
  },
  {
   "cell_type": "markdown",
   "metadata": {},
   "source": [
    "# Define State-Transition Function for Lattice Planner"
   ]
  },
  {
   "cell_type": "markdown",
   "metadata": {},
   "source": [
    "Define the state-transition function for the lattice planner"
   ]
  },
  {
   "cell_type": "code",
   "execution_count": null,
   "metadata": {},
   "outputs": [],
   "source": [
    "def next_state(x, world, mp, rev=True, tol=1e-5):\n",
    "    \"\"\"Input arguments:\n",
    "     x - current state\n",
    "     world - description of the map of the world\n",
    "             using the class BoxWorld\n",
    "     mp - object with motion primitives of the class MotionPrimitives\n",
    "     rev - Allow reversing (default: True)\n",
    "     tol - tolerance for comparison of closeness of states\n",
    "    \n",
    "    Output arguments:\n",
    "     xi - List containing the indices of N possible next states from current \n",
    "          state x, considering the obstacles and size of the world model\n",
    "           \n",
    "          To get the state corresponding to the first element in xi, \n",
    "          world.st_sp[:, xi[0]]\n",
    "     u - List of indices indicating which motion primitive used for reaching \n",
    "         the states in xi. Each element in the list contains the two indices of the \n",
    "         motion primitives used for reaching each state and the driving direction \n",
    "         (1 forward, -1 reverse).\n",
    "\n",
    "         If u_i = u[0] (first element), the corresponding motion primitive is\n",
    "         mp.mprims[u_i[0], u_i[1]]\n",
    "     d - List with the cost associated with each possible \n",
    "         transition in xi\"\"\"\n",
    "    \n",
    "    state_i = world.st_sp[:, x]\n",
    "    theta_i = state_i[2]\n",
    "    mprims = mp.mprims\n",
    "\n",
    "    xi = []\n",
    "    u = []\n",
    "    d = []\n",
    "    \n",
    "    # Iterate through all available primitives compatible with the current \n",
    "    # angle state. Base set of motion primitives (nominally\n",
    "    # corresponding to forward driving) is reversed for obtaining reverse\n",
    "    # driving of the corresponding motion primitive.\n",
    "\n",
    "    for i, j in mp.with_start_orientation_index(theta_i):\n",
    "        mpi = mprims[i, j]\n",
    "\n",
    "        # Create path to next state\n",
    "        p = state_i[0:2, np.newaxis] + np.row_stack((mpi['x'], mpi['y']))\n",
    "        state_next = np.row_stack((p[:, -1:], mpi[\"th\"][-1]))\n",
    "        \n",
    "        # Check if the path to next state is in the allowed area\n",
    "        if not world.in_bound(state_next) or not world.obstacle_free(p):\n",
    "            continue\n",
    "        else:\n",
    "            next_idx = np.argmin(np.sum((world.st_sp - state_next)**2, axis=0))                \n",
    "            xi.append(next_idx)\n",
    "            d.append(mpi['ds'])\n",
    "            u.append([i, j, 1])\n",
    "    if rev: # With reverse driving\n",
    "        for i, j in mp.with_end_orientation_index(theta_i):\n",
    "            mpi = mprims[i, j]\n",
    "\n",
    "            # Create path to next state\n",
    "            p = state_i[0:2, np.newaxis] + np.row_stack((np.flip(mpi[\"x\"]) - mpi[\"x\"][-1], \n",
    "                                                        np.flip(mpi[\"y\"]) - mpi[\"y\"][-1]))\n",
    "            state_next = np.row_stack((p[:, -1:], mpi[\"th\"][0]))\n",
    "\n",
    "            # Check if the path to next state is in the allowed area\n",
    "            if not world.in_bound(state_next) or not world.obstacle_free(p):\n",
    "                continue\n",
    "            else:\n",
    "                next_idx = np.argmin(np.sum((world.st_sp - state_next)**2, axis=0))                \n",
    "                xi.append(next_idx)\n",
    "                d.append(mpi['ds'])\n",
    "                u.append([i, j, -1])\n",
    "\n",
    "    return (xi, u, d)"
   ]
  },
  {
   "cell_type": "markdown",
   "metadata": {},
   "source": [
    "The state-transition function is fully implemented. Apply it to the initial state and interpret the result."
   ]
  },
  {
   "cell_type": "code",
   "execution_count": null,
   "metadata": {},
   "outputs": [],
   "source": [
    "next_state(mission[\"start\"][\"id\"], world, mp)"
   ]
  },
  {
   "cell_type": "markdown",
   "metadata": {},
   "source": [
    "and do not allow reversing"
   ]
  },
  {
   "cell_type": "code",
   "execution_count": null,
   "metadata": {},
   "outputs": [],
   "source": [
    "next_state(mission[\"start\"][\"id\"], world, mp, rev=False)"
   ]
  },
  {
   "cell_type": "markdown",
   "metadata": {},
   "source": [
    "# Call Planners"
   ]
  },
  {
   "cell_type": "markdown",
   "metadata": {},
   "source": [
    "Get number of nodes in the state space"
   ]
  },
  {
   "cell_type": "code",
   "execution_count": null,
   "metadata": {},
   "outputs": [],
   "source": [
    "n = world.num_nodes()"
   ]
  },
  {
   "cell_type": "markdown",
   "metadata": {},
   "source": [
    "Define cost-to-go heuristic for planner"
   ]
  },
  {
   "cell_type": "code",
   "execution_count": null,
   "metadata": {},
   "outputs": [],
   "source": [
    "cost_to_go = lambda x, xg: np.linalg.norm(world.st_sp[0:2, x] - world.st_sp[0:2, xg])"
   ]
  },
  {
   "cell_type": "markdown",
   "metadata": {},
   "source": [
    "Plan using all pre-defined planners from Hand-in Exercise 1"
   ]
  },
  {
   "cell_type": "code",
   "execution_count": null,
   "metadata": {},
   "outputs": [],
   "source": [
    "res = []\n",
    "for planner in [breadth_first, depth_first, dijkstra, astar, best_first]:\n",
    "    print('.', end='')    \n",
    "    res.append(planner(n, mission, lambda x: next_state(x, world, mp, rev=True),\n",
    "                       heuristic=cost_to_go, num_controls=3))\n",
    "print('Finished!')\n",
    "\n",
    "opt_length = [r['length'] for r in res if r['name'] == 'Dijkstra'] # Dijkstra is optimal"
   ]
  },
  {
   "cell_type": "markdown",
   "metadata": {},
   "source": [
    "# Plots and Analysis"
   ]
  },
  {
   "cell_type": "markdown",
   "metadata": {},
   "source": [
    "Hint: For information on a useful function"
   ]
  },
  {
   "cell_type": "code",
   "execution_count": null,
   "metadata": {},
   "outputs": [],
   "source": [
    "?mp.plan_to_path"
   ]
  },
  {
   "cell_type": "code",
   "execution_count": null,
   "metadata": {},
   "outputs": [],
   "source": [
    "# YOUR CODE HERE"
   ]
  },
  {
   "cell_type": "code",
   "execution_count": null,
   "metadata": {},
   "outputs": [],
   "source": []
  }
 ],
 "metadata": {
  "kernelspec": {
   "display_name": "Python 3",
   "language": "python",
   "name": "python3"
  },
  "language_info": {
   "codemirror_mode": {
    "name": "ipython",
    "version": 3
   },
   "file_extension": ".py",
   "mimetype": "text/x-python",
   "name": "python",
   "nbconvert_exporter": "python",
   "pygments_lexer": "ipython3",
   "version": "3.9.0"
  }
 },
 "nbformat": 4,
 "nbformat_minor": 4
}
