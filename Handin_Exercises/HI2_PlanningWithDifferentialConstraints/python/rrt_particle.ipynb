{
 "cells": [
  {
   "cell_type": "markdown",
   "metadata": {},
   "source": [
    "# TSFS12 Hand-in Exercise 2: Planning for Vehicles with Differential Motion Constraints --- RRT with Particle Model"
   ]
  },
  {
   "cell_type": "code",
   "execution_count": null,
   "metadata": {},
   "outputs": [],
   "source": [
    "import numpy as np\n",
    "import matplotlib.pyplot as plt\n",
    "from misc import Timer\n",
    "from world import BoxWorld"
   ]
  },
  {
   "cell_type": "code",
   "execution_count": null,
   "metadata": {},
   "outputs": [],
   "source": [
    "%matplotlib inline\n",
    "# %matplotlib  # Run instead if you want plots in external windows"
   ]
  },
  {
   "cell_type": "code",
   "execution_count": null,
   "metadata": {},
   "outputs": [],
   "source": [
    "# Run the ipython magic below to activate automated import of modules. Useful if you write code in external .py files.\n",
    "# %load_ext autoreload\n",
    "# %autoreload 2"
   ]
  },
  {
   "cell_type": "markdown",
   "metadata": {},
   "source": [
    "# Define the Planning World"
   ]
  },
  {
   "cell_type": "markdown",
   "metadata": {},
   "source": [
    "Define world with obstacles"
   ]
  },
  {
   "cell_type": "code",
   "execution_count": null,
   "metadata": {},
   "outputs": [],
   "source": [
    "world = BoxWorld([[0, 10], [0, 10]])\n",
    "world.add_box(0, 1, 2, 4)\n",
    "world.add_box(0, 6, 6, 4)\n",
    "world.add_box(4, 1, 6, 4)\n",
    "world.add_box(7, 7, 3, 3)\n",
    "\n",
    "plt.figure(10, clear=True)\n",
    "world.draw()\n",
    "plt.xlabel('x')\n",
    "plt.ylabel('y')\n",
    "plt.axis([world.xmin, world.xmax, world.ymin, world.ymax])"
   ]
  },
  {
   "cell_type": "markdown",
   "metadata": {},
   "source": [
    "# Implementation of RRT"
   ]
  },
  {
   "cell_type": "markdown",
   "metadata": {},
   "source": [
    "Implementation of the RRT planning algorithm for a particle moving in a plane (2D world)"
   ]
  },
  {
   "cell_type": "code",
   "execution_count": null,
   "metadata": {},
   "outputs": [],
   "source": [
    "def rrt_particle(start, goal, world, opts):\n",
    "    \"\"\"RRT planner for particle moving in a 2D world\n",
    "    \n",
    "    Input arguments:\n",
    "     start - initial state\n",
    "     goal - desired goal state\n",
    "     world - description of the map of the world\n",
    "             using an object from the class BoxWorld\n",
    "     opts - structure with options for the RRT\n",
    "    \n",
    "     Output arguments:\n",
    "     goal_idx - index of the node closest to the desired goal state\n",
    "     nodes - 2 x N matrix with each column representing a state j\n",
    "             in the tree\n",
    "     parents - 1 x N vector with the node number for the parent of node j \n",
    "               at element j in the vector (node number counted as column\n",
    "               in the matrix nodes)\n",
    "     Tplan - the time taken for computing the plan        \n",
    "    \"\"\"\n",
    "    rg = np.random.default_rng()  # Get the default random number generator\n",
    "\n",
    "    def sample_free():\n",
    "        \"\"\"Sample a state x in the free state space\"\"\"\n",
    "        if rg.uniform(0, 1, 1) < opts['beta']:\n",
    "            return np.array(goal)\n",
    "        else:\n",
    "            found_random = False\n",
    "            while not found_random:\n",
    "                x = (rg.uniform(0, 1, 2) * [world.xmax - world.xmin, world.ymax - world.ymin] + \n",
    "                     [world.xmin, world.ymin])\n",
    "                if world.obstacle_free(x[:, None]):\n",
    "                    found_random = True\n",
    "            return x\n",
    "\n",
    "    def nearest(x):\n",
    "        \"\"\"Find index of state nearest to x in the matrix nodes\"\"\"        \n",
    "        idx = np.argmin(np.sum((nodes - x[:, None])**2, axis=0))\n",
    "        return idx\n",
    "    \n",
    "    def steer(x1, x2):\n",
    "        \"\"\"Steer from x1 towards x2 with step size opts['lambda']\n",
    "        \n",
    "        If the distance to x2 is less than opts['lambda'], return\n",
    "        state x2.\n",
    "        \"\"\"\n",
    "        dx = np.linalg.norm(x2 - x1)\n",
    "        if dx < opts['lambda']:\n",
    "            x_new = x2\n",
    "        else:\n",
    "            x_new = x1 + opts['lambda'] * (x2 - x1) / dx\n",
    "        return x_new\n",
    "    \n",
    "    # Start time measurement and define variables for nodes and parents\n",
    "    T = Timer()\n",
    "    T.tic()\n",
    "    nodes = start.reshape((-1, 1))  # Make numpy column vector\n",
    "    parents = [0]   # Initial state has no parent\n",
    "\n",
    "    # YOUR CODE HERE\n",
    "    \n",
    "    Tplan = T.toc()\n",
    "    goal_idx = np.argmin(np.sum((nodes - goal.reshape((-1, 1)))**2, axis=0))\n",
    "    \n",
    "    return goal_idx, nodes, parents, Tplan"
   ]
  },
  {
   "cell_type": "markdown",
   "metadata": {},
   "source": [
    "Run the planner"
   ]
  },
  {
   "cell_type": "code",
   "execution_count": null,
   "metadata": {},
   "outputs": [],
   "source": [
    "start = np.array([1, 0]) # Start state\n",
    "goal = np.array([6.5, 9]) # Goal state\n",
    "\n",
    "opts = {'beta': 0.05,  # Probability of selecting goal state as target state in the sample\n",
    "        'lambda': 0.1,  # Step size\n",
    "        'eps': -0.01,  # Threshold for stopping the search (negative for full search)\n",
    "        'K': 5000}     # Maximum number of iterations, if eps < 0\n",
    "\n",
    "print('Planning ...')\n",
    "idx_goal, nodes, parents, Tplan = rrt_particle(start, goal, world, opts)\n",
    "print('Finished in {:.2f} s'.format(Tplan))"
   ]
  },
  {
   "cell_type": "markdown",
   "metadata": {},
   "source": [
    "# Plots and Analysis"
   ]
  },
  {
   "cell_type": "code",
   "execution_count": null,
   "metadata": {},
   "outputs": [],
   "source": [
    "# Hint on plotting: To plot the path corresponding to the found solution,\n",
    "# the following code could be useful (utilizing backtracking from the goal \n",
    "# node:\n",
    "#\n",
    "# drawlines = []\n",
    "# idx = idx_goal\n",
    "# while idx != 0:\n",
    "#     ll = np.column_stack((nodes[:, parents[idx]], nodes[:, idx]))\n",
    "#     drawlines.append(ll[0])\n",
    "#     drawlines.append(ll[1])\n",
    "#     idx = parents[idx]\n",
    "# plt.plot(*drawlines, color='b', lw=2)"
   ]
  },
  {
   "cell_type": "code",
   "execution_count": null,
   "metadata": {},
   "outputs": [],
   "source": []
  }
 ],
 "metadata": {
  "kernelspec": {
   "display_name": "Python 3",
   "language": "python",
   "name": "python3"
  },
  "language_info": {
   "codemirror_mode": {
    "name": "ipython",
    "version": 3
   },
   "file_extension": ".py",
   "mimetype": "text/x-python",
   "name": "python",
   "nbconvert_exporter": "python",
   "pygments_lexer": "ipython3",
   "version": "3.8.10"
  }
 },
 "nbformat": 4,
 "nbformat_minor": 4
}
