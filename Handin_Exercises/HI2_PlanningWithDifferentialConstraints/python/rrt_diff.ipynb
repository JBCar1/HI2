{
 "cells": [
  {
   "cell_type": "markdown",
   "metadata": {},
   "source": [
    "# TSFS12 Hand-in Exercise 2: Planning for Vehicles with Differential Motion Constraints --- RRT with Motion Model for a Simple Car"
   ]
  },
  {
   "cell_type": "code",
   "execution_count": null,
   "metadata": {},
   "outputs": [],
   "source": [
    "import numpy as np\n",
    "import matplotlib.pyplot as plt\n",
    "from misc import Timer\n",
    "from world import BoxWorld\n",
    "import math"
   ]
  },
  {
   "cell_type": "code",
   "execution_count": null,
   "metadata": {},
   "outputs": [],
   "source": [
    "%matplotlib inline\n",
    "# Run instead if you want plots in external windows\n",
    "# %matplotlib"
   ]
  },
  {
   "cell_type": "code",
   "execution_count": null,
   "metadata": {},
   "outputs": [],
   "source": [
    "# Run the ipython magic below to activate automated import of modules. Useful if you write code in external .py files.\n",
    "# %load_ext autoreload\n",
    "# %autoreload 2"
   ]
  },
  {
   "cell_type": "markdown",
   "metadata": {},
   "source": [
    "# Define the Planning World"
   ]
  },
  {
   "cell_type": "markdown",
   "metadata": {},
   "source": [
    "Define world with obstacles"
   ]
  },
  {
   "cell_type": "code",
   "execution_count": null,
   "metadata": {},
   "outputs": [],
   "source": [
    "world = BoxWorld([[0, 10], [0, 10]])\n",
    "world.add_box(0, 1, 2, 4)\n",
    "world.add_box(0, 6, 6, 4)\n",
    "world.add_box(4, 1, 6, 4)\n",
    "world.add_box(7, 7, 3, 3)\n",
    "\n",
    "plt.figure(10, clear=True)\n",
    "world.draw()\n",
    "plt.xlabel('x')\n",
    "plt.ylabel('y')\n",
    "plt.axis([world.xmin, world.xmax, world.ymin, world.ymax])"
   ]
  },
  {
   "cell_type": "markdown",
   "metadata": {},
   "source": [
    "# Car Simulation Function"
   ]
  },
  {
   "cell_type": "markdown",
   "metadata": {},
   "source": [
    "Define function needed to simulate motion of single-track model"
   ]
  },
  {
   "cell_type": "code",
   "execution_count": null,
   "metadata": {},
   "outputs": [],
   "source": [
    "def sim_car(xk, u, step, h=0.01, L=1.5, v=15):\n",
    "    \"\"\"Car simulator\n",
    "    \n",
    "    Simulate car forward in time from state xk with time-step length step. \n",
    "    Returns next sequence of states.\n",
    "    \n",
    "    x' = v*cos(th)\n",
    "    y' = v*sin(th)\n",
    "    th' = v*tan(delta)/L\n",
    "    u = delta\n",
    "    x = [x y th]\n",
    "    \"\"\"\n",
    "\n",
    "    # Simulation with discretization using forward Euler\n",
    "\n",
    "    t = 0\n",
    "    N = int(step / h) + 1\n",
    "    states = np.zeros((3, N))\n",
    "    states[:, 0] = xk\n",
    "\n",
    "    k = 0\n",
    "    while k < N - 1:\n",
    "        hk = min(h, step - t)\n",
    "        states[0, k + 1] = states[0, k] + hk * v * math.cos(states[2, k])\n",
    "        states[1, k + 1] = states[1, k] + hk * v * math.sin(states[2, k])\n",
    "        states[2, k + 1] = states[2, k] + hk * v * math.tan(u) / L\n",
    "        t = t + h\n",
    "        k = k + 1\n",
    "\n",
    "    return states   "
   ]
  },
  {
   "cell_type": "markdown",
   "metadata": {},
   "source": [
    "# Implementation of RRT for Kinematic Car Model\n",
    "\n",
    "Car model has two translational and one orientational degrees-of-freedom"
   ]
  },
  {
   "cell_type": "code",
   "execution_count": null,
   "metadata": {},
   "outputs": [],
   "source": [
    "def rrt_diff(start, goal, u_c, sim, world, opts):\n",
    "    \"\"\"RRT planner for kinematic car model\n",
    "    \n",
    "    Input arguments:\n",
    "     start - initial state\n",
    "     goal - desired goal state\n",
    "     u_c - vector with possible control actions (steering angles)\n",
    "     sim - function reference to the simulation model of the car motion\n",
    "     world - description of the map of the world\n",
    "             using an object from the class BoxWorld\n",
    "     opts - structure with options for the RRT\n",
    "    \n",
    "    Output arguments:\n",
    "     goal_idx - index of the node closest to the desired goal state\n",
    "     nodes - 2 x N matrix with each column representing a state j\n",
    "             in the tree\n",
    "     parents - 1 x N vector with the node number for the parent of node j \n",
    "               at element j in the vector (node number counted as column\n",
    "               in the matrix nodes)\n",
    "     state_trajectories - a struct with the trajectory segment for \n",
    "                     reaching node j at element j (node number counted \n",
    "                     as column in the matrix nodes)\n",
    "     Tplan - the time taken for computing the plan   \n",
    "    \"\"\"\n",
    "\n",
    "    rg = np.random.default_rng()\n",
    "    \n",
    "    def sample_free():\n",
    "        \"\"\"Returns a state x in the free state space\"\"\"\n",
    "        if rg.uniform(0, 1) < opts['beta']:\n",
    "            return np.array(goal)\n",
    "        else:\n",
    "            found_random = False\n",
    "            th = rg.uniform(0, 1) * 2 * np.pi - np.pi\n",
    "            while not found_random:\n",
    "                p = (rg.uniform(0, 1, 2) * [world.xmax - world.xmin, world.ymax - world.ymin] + \n",
    "                     [world.xmin, world.ymin])\n",
    "                if world.obstacle_free(p[:, None]):\n",
    "                    found_random = True\n",
    "        return np.array([p[0], p[1], th])\n",
    "\n",
    "    def nearest(x):\n",
    "        \"\"\"Find index of state nearest to x in nodes\"\"\"\n",
    "        return np.argmin(distance_fcn(nodes, x[:, None]))\n",
    "    \n",
    "    def steer_candidates(x_nearest, x_rand):\n",
    "        \"\"\"Compute all possible paths for different steering control signals u_c\n",
    "            to move from x_nearest towards x_rand, without collision\n",
    "            If no valid paths are found, the returned variables are empty\"\"\"\n",
    "        new_paths = [sim(x_nearest, ui, opts['lambda']) for ui in u_c]\n",
    "        new_free = np.where([world.obstacle_free(traj_i) for traj_i in new_paths])[0]\n",
    "        valid_new_paths = [new_paths[i] for i in new_free]\n",
    "        \n",
    "        if np.any(new_free):\n",
    "            dist_to_x_rand = [distance_fcn(xi[:, -1], x_rand) for xi in valid_new_paths]\n",
    "        else:\n",
    "            dist_to_x_rand = -1\n",
    "\n",
    "        return valid_new_paths, dist_to_x_rand\n",
    "\n",
    "    def distance_fcn(x1, x2):\n",
    "        \"\"\"Function for computing the distance between states x1 and x2, where \n",
    "            x1 and x2 can be matrices with several state vectors, treating  \n",
    "            all states equally\"\"\"\n",
    "        d2 = x1 - x2\n",
    "        return np.sqrt(d2[0]**2 + d2[1]**2)\n",
    "\n",
    "    # Start time measurement and define variables for nodes, parents, and \n",
    "    # associated trajectories\n",
    "    T = Timer()\n",
    "    T.tic()\n",
    "    nodes = start.reshape((-1, 1))   # Make numpy column vector\n",
    "    parents = [0]    # Initial state has no parent\n",
    "    state_trajectories = [start]   # No trajectory segment needed to reach start state\n",
    "\n",
    "    # YOUR CODE HERE\n",
    "    \n",
    "    Tplan = T.toc()\n",
    "    goal_idx = np.argmin(distance_fcn(nodes, goal[:, None]), axis=0)\n",
    "    return goal_idx, nodes, parents, state_trajectories, Tplan"
   ]
  },
  {
   "cell_type": "markdown",
   "metadata": {},
   "source": [
    "Run the planner"
   ]
  },
  {
   "cell_type": "code",
   "execution_count": null,
   "metadata": {},
   "outputs": [],
   "source": [
    "start = np.array([1, 0, np.pi/4]) # Start state (x,y,th)\n",
    "goal = np.array([6.5, 9, np.pi/2]) # Goal state (x,y,th)\n",
    "\n",
    "# Define the possible control inputs\n",
    "u_c = np.linspace(-np.pi / 4, np.pi / 4, 11)\n",
    "\n",
    "# Define parameters and data structures\n",
    "\n",
    "opts = {'beta': 0.05,  # Probability of selecting goal state as target state\n",
    "        'lambda': 0.1,  # Step size (in time)\n",
    "        'eps': -0.01,  # Threshold for stopping the search (negative for full search)\n",
    "        'K': 4000}    # Maximum number of iterations\n",
    "\n",
    "goal_idx, nodes, parents, state_trajectories, Tplan = rrt_diff(start, goal, u_c, sim_car, world, opts)\n",
    "print(f'Finished in {Tplan:.2f} s')"
   ]
  },
  {
   "cell_type": "markdown",
   "metadata": {},
   "source": [
    "# Plots and Analysis"
   ]
  },
  {
   "cell_type": "code",
   "execution_count": null,
   "metadata": {},
   "outputs": [],
   "source": [
    "# Hint on plotting: To plot the path corresponding to the found solution,\n",
    "# the following code could be useful (utilizing backtracking from the goal \n",
    "# node:\n",
    "# drawlines = []\n",
    "# idx = goal_idx\n",
    "# while idx != 0:\n",
    "#     traj_i = state_trajectories[idx]\n",
    "#     drawlines.append(traj_i[0])\n",
    "#     drawlines.append(traj_i[1])\n",
    "#     idx = parents[idx]\n",
    "# plt.plot(*drawlines, color='b', lw=4)"
   ]
  },
  {
   "cell_type": "code",
   "execution_count": null,
   "metadata": {},
   "outputs": [],
   "source": []
  }
 ],
 "metadata": {
  "kernelspec": {
   "display_name": "Python 3",
   "language": "python",
   "name": "python3"
  },
  "language_info": {
   "codemirror_mode": {
    "name": "ipython",
    "version": 3
   },
   "file_extension": ".py",
   "mimetype": "text/x-python",
   "name": "python",
   "nbconvert_exporter": "python",
   "pygments_lexer": "ipython3",
   "version": "3.8.10"
  }
 },
 "nbformat": 4,
 "nbformat_minor": 4
}
