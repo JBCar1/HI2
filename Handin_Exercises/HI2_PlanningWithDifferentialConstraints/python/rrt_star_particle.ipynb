{
 "cells": [
  {
   "cell_type": "markdown",
   "metadata": {},
   "source": [
    "# TSFS12 Hand-in Exercise 2, Extra Assignment: Planning for Vehicles with Differential Motion Constraints --- RRT* with Particle Model"
   ]
  },
  {
   "cell_type": "code",
   "execution_count": null,
   "metadata": {},
   "outputs": [],
   "source": [
    "import numpy as np\n",
    "import matplotlib.pyplot as plt\n",
    "from misc import Timer\n",
    "from world import BoxWorld"
   ]
  },
  {
   "cell_type": "code",
   "execution_count": null,
   "metadata": {},
   "outputs": [],
   "source": [
    "%matplotlib inline\n",
    "# Run instead if you want plots in external windows\n",
    "# %matplotlib  "
   ]
  },
  {
   "cell_type": "code",
   "execution_count": null,
   "metadata": {},
   "outputs": [],
   "source": [
    "# Run the ipython magic below to activate automated import of modules. Useful if you write code in external .py files.\n",
    "# %load_ext autoreload\n",
    "# %autoreload 2"
   ]
  },
  {
   "cell_type": "markdown",
   "metadata": {},
   "source": [
    "# Define the Planning World"
   ]
  },
  {
   "cell_type": "markdown",
   "metadata": {},
   "source": [
    "Define world with obstacles"
   ]
  },
  {
   "cell_type": "code",
   "execution_count": null,
   "metadata": {},
   "outputs": [],
   "source": [
    "world = BoxWorld([[0, 10], [0, 10]])\n",
    "world.add_box(0, 1, 2, 4)\n",
    "world.add_box(0, 6, 6, 4)\n",
    "world.add_box(4, 1, 6, 4)\n",
    "world.add_box(7, 7, 3, 3)\n",
    "\n",
    "plt.figure(10, clear=True)\n",
    "world.draw()\n",
    "plt.axis([world.xmin, world.xmax, world.ymin, world.ymax])"
   ]
  },
  {
   "cell_type": "markdown",
   "metadata": {},
   "source": [
    "# Implementation of RRT* Planning Algorithm"
   ]
  },
  {
   "cell_type": "markdown",
   "metadata": {},
   "source": [
    "RRT* for a particle moving in a plane (2D world)"
   ]
  },
  {
   "cell_type": "code",
   "execution_count": null,
   "metadata": {},
   "outputs": [],
   "source": [
    "def rrt_star_particle(start, goal, world, opts):\n",
    "    \"\"\" Input arguments:\n",
    "            start - initial state\n",
    "            goal - desired goal state\n",
    "            world - description of the map of the world\n",
    "                 using an object from the class BoxWorld\n",
    "            opts - structure with options for the RRT*\n",
    "    \n",
    "        Output arguments:\n",
    "            goal_idx - index of the node closest to the desired goal state\n",
    "            nodes - 2 x N matrix with each column representing a state j\n",
    "                 in the tree\n",
    "            parents - 1 x N vector with the node number for the parent of node j \n",
    "               at element j in the vector (node number counted as column\n",
    "               in the matrix nodes)\n",
    "            Tplan - the time taken for computing the plan\"\"\"\n",
    "    \n",
    "    def sample_free():\n",
    "        \"\"\"Sample a state x in the free state space\"\"\"\n",
    "        if np.random.uniform(0, 1, 1) < opts['beta']:\n",
    "            return goal\n",
    "        else:\n",
    "            found_random = False\n",
    "            while not found_random:\n",
    "                x = np.random.uniform(0, 1, 2) * [world.xmax - world.xmin, world.ymax - world.ymin] + [world.xmin, world.ymin]\n",
    "                if world.obstacle_free(x[:, None]):\n",
    "                    found_random = True\n",
    "        return x\n",
    "\n",
    "    def nearest(x):\n",
    "        \"\"\"Find index of state nearest to x in nodes\"\"\"\n",
    "        idx = np.argmin(np.sum((nodes - x[:, None])**2, axis=0))\n",
    "        return idx\n",
    "    \n",
    "    def near(x, r):\n",
    "        \"\"\"Find the indices of the states in nodes within a neighborhood with\n",
    "            radius r from state x\"\"\"\n",
    "        idx = np.where(np.sum((nodes - x[:, None])**2, axis=0) < r**2)\n",
    "        return idx[0]\n",
    "\n",
    "    def steer(x1, x2):\n",
    "        \"\"\"Steering function for moving from x1 towards x2 with step size\n",
    "            opts['lambda']. If the distance to x2 is less than opts['lambda'], x_new\n",
    "            becomes state x2.\"\"\"\n",
    "        dx = sum((x2 - x1)**2)\n",
    "        if dx < opts['lambda']:\n",
    "            x_new = x2\n",
    "        else:\n",
    "            x_new = x1 + opts['lambda'] * (x2 - x1) / dx\n",
    "        return x_new\n",
    "    \n",
    "    def connect_min_cost(x_new, near_idx, idx_nearest, cost_via_nearest):\n",
    "        \"\"\"Function for connecting along a path from tree root to x_new with\n",
    "            minimum cost among the states in a neighborhood of x_new\n",
    "            described by the (column) indices near_idx in nodes. The variable\n",
    "            idx_nearest is the index (column in matrix nodes) for the node \n",
    "            closest to x_new and cost_via_nearest is the cost to reach x_new \n",
    "            via the nearest node.\"\"\"\n",
    "        \n",
    "        idx_min = idx_nearest\n",
    "        cost_min = cost_via_nearest\n",
    "\n",
    "        for idx_n in near_idx:\n",
    "            x_near = nodes[:, idx_n]\n",
    "\n",
    "            if (x_new[0] == x_near[0]) and (x_new[1] == x_near[1]):\n",
    "                p = x_new[:, None]\n",
    "            else:\n",
    "                p = np.row_stack((np.arange(x_near[0], x_new[0], (x_new[0] - x_near[0]) / 10),\n",
    "                                  np.arange(x_near[1], x_new[1], (x_new[1] - x_near[1]) / 10)))\n",
    "            cost_near = cost[idx_n] + np.linalg.norm(x_near - x_new)\n",
    "\n",
    "            if cost_near < cost_min and world.obstacle_free(p):\n",
    "                cost_min = cost_near\n",
    "                idx_min = idx_n\n",
    "        return idx_min, cost_min\n",
    "\n",
    "    def rewire_neighborhood(x_new, near_idx, cost_min):\n",
    "        \"\"\"Function for (possible) rewiring of the nodes in the neighborhood of\n",
    "            x_new described by the indices near_idx in nodes (column numbers) \n",
    "            via the new state x_new, if a path with less cost could be found. \n",
    "            The variable cost_min is the cost-to-come to x_new \n",
    "            (computed in connect_min_cost)\"\"\"\n",
    "        for idx_n in near_idx:\n",
    "            x_near = nodes[:, idx_n]\n",
    "            \n",
    "            if (x_new[0] == x_near[0]) and (x_new[1] == x_near[1]):\n",
    "                p = x_new[:, None]\n",
    "            else:\n",
    "                p = np.row_stack((np.arange(x_near[0], x_new[0], (x_new[0] - x_near[0]) / 10),\n",
    "                                  np.arange(x_near[1], x_new[1], (x_new[1] - x_near[1]) / 10)))\n",
    "            cost_near = cost_min + np.linalg.norm(x_near - x_new)\n",
    "            if cost_near < cost[idx_n] and world.obstacle_free(p):\n",
    "                parents[idx_n] = len(parents) - 1\n",
    "                cost[idx_n] = cost_near\n",
    "    \n",
    "    # Start time measurement and define variables for nodes, parents, and \n",
    "    # associated cost\n",
    "    T = Timer()\n",
    "    T.tic()\n",
    "    nodes = start.reshape((-1, 1))\n",
    "    parents = np.array([0], dtype=np.int)\n",
    "    \n",
    "    # cost - 1 x N vector with the cost for reaching node j from the\n",
    "    #        initial state (tree root) at element j in the vector \n",
    "    #        (node number counted as column in the matrix nodes)\n",
    "    cost = np.array([0])\n",
    "    \n",
    "    # YOUR CODE HERE\n",
    "    \n",
    "    Tplan = T.toc()\n",
    "    goal_idx = np.argmin(np.sum((nodes-goal[:, None])**2, axis=0))\n",
    "    return goal_idx, nodes, parents, Tplan"
   ]
  },
  {
   "cell_type": "markdown",
   "metadata": {},
   "source": [
    "Run the planner"
   ]
  },
  {
   "cell_type": "code",
   "execution_count": null,
   "metadata": {},
   "outputs": [],
   "source": [
    "start = np.array([1, 0])\n",
    "goal = np.array([6.5, 9])\n",
    "\n",
    "opts = {'beta': 0.01,  # Probability of selecting goal state as target state\n",
    "        'lambda': 0.1,  # Step size\n",
    "        'eps': -0.01,  # Threshold for stopping the search (negative for full search)\n",
    "        'r_neighbor': 0.5, # Radius of circle for definition of neighborhood\n",
    "        'K': 10000}  # Maximum number of iterations\n",
    "\n",
    "goal_idx, nodes, parents, Tplan = rrt_star_particle(start, goal, world, opts)\n",
    "print('Finished in {:.3f} s'.format(Tplan))"
   ]
  },
  {
   "cell_type": "code",
   "execution_count": null,
   "metadata": {},
   "outputs": [],
   "source": []
  }
 ],
 "metadata": {
  "kernelspec": {
   "display_name": "Python 3",
   "language": "python",
   "name": "python3"
  },
  "language_info": {
   "codemirror_mode": {
    "name": "ipython",
    "version": 3
   },
   "file_extension": ".py",
   "mimetype": "text/x-python",
   "name": "python",
   "nbconvert_exporter": "python",
   "pygments_lexer": "ipython3",
   "version": "3.8.10"
  }
 },
 "nbformat": 4,
 "nbformat_minor": 4
}
