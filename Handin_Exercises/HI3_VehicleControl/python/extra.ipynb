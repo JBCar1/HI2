{
 "cells": [
  {
   "cell_type": "markdown",
   "metadata": {},
   "source": [
    "# TSFS12 Hand-in exercise 3, extra assignment: Path following for autonomous vehicles with MPC controller"
   ]
  },
  {
   "cell_type": "code",
   "execution_count": 1,
   "metadata": {},
   "outputs": [],
   "source": [
    "import numpy as np\n",
    "import matplotlib.pyplot as plt\n",
    "from vehiclecontrol import ControllerBase, SingleTrackModel\n",
    "from splinepath import SplinePath\n",
    "import casadi"
   ]
  },
  {
   "cell_type": "code",
   "execution_count": 2,
   "metadata": {},
   "outputs": [
    {
     "name": "stdout",
     "output_type": "stream",
     "text": [
      "Using matplotlib backend: Qt5Agg\n"
     ]
    }
   ],
   "source": [
    "# %matplotlib  # Run if you want plots in external windows"
   ]
  },
  {
   "cell_type": "code",
   "execution_count": null,
   "metadata": {},
   "outputs": [],
   "source": [
    "# Run the ipython magic below to activate automated import of modules. Useful if you write code in external .py files.\n",
    "# %load_ext autoreload\n",
    "# %autoreload 2"
   ]
  },
  {
   "cell_type": "markdown",
   "metadata": {},
   "source": [
    "# Make a simple controller and simulate vehicle"
   ]
  },
  {
   "cell_type": "markdown",
   "metadata": {},
   "source": [
    "Simulate a sample path to follow"
   ]
  },
  {
   "cell_type": "code",
   "execution_count": null,
   "metadata": {},
   "outputs": [],
   "source": [
    "class MiniController(ControllerBase):\n",
    "    def __init__(self):\n",
    "        super().__init__()\n",
    "    \n",
    "    def u(self, t, w):\n",
    "        a = 0.0\n",
    "        if t < 10:\n",
    "            u = [np.pi / 180 * 10, a]\n",
    "        elif 10 <= t < 20:\n",
    "            u = [-np.pi / 180 * 11, a]\n",
    "        elif 20 <= t < 23:\n",
    "            u = [-np.pi / 180 * 0, a]\n",
    "        elif 23 <= t < 40:\n",
    "            u = [-np.pi / 180 * 15, a]\n",
    "        else:\n",
    "            u = [-np.pi / 180 * 0, a]\n",
    "        return u\n",
    "\n",
    "opts = {'L': 2, \n",
    "        'amax': np.inf,\n",
    "        'amin': -np.inf,\n",
    "        'steer_limit': np.pi / 3}\n",
    "\n",
    "car = SingleTrackModel().set_attributes(opts)\n",
    "car.Ts = 0.1\n",
    "car.controller = MiniController()\n",
    "w0 = np.array([0, 0, 0, 2])\n",
    "z0 = car.simulate(w0, T=40, dt=0.1, t0=0.0)\n",
    "t, w, u = z0\n",
    "M = 10\n",
    "p = w[::M, 0:2]\n",
    "pl = SplinePath(p)"
   ]
  },
  {
   "cell_type": "code",
   "execution_count": null,
   "metadata": {},
   "outputs": [],
   "source": [
    "s = np.linspace(0, pl.length, 100)\n",
    "\n",
    "plt.figure(10, clear=True)\n",
    "plt.plot(pl.x(s), pl.y(s))\n",
    "plt.plot(p[:, 0], p[:, 1], 'rx')\n",
    "plt.xlabel('x [m]')\n",
    "plt.ylabel('y [m]')\n",
    "plt.title('Path from simple controller')\n",
    "_ = plt.axis('square')"
   ]
  },
  {
   "cell_type": "markdown",
   "metadata": {},
   "source": [
    "# Make an MPC path following controller"
   ]
  },
  {
   "cell_type": "markdown",
   "metadata": {},
   "source": [
    "Make a MPC controller using the template class below. Parameters for the controller are\n",
    "* gamma_d - Weight in the loss-function for _distance errors_\n",
    "* gamma_theta - Weight in the loss-function for _heading errors_\n",
    "* gamma_u - Weight in the loss-function for _control signal_ (steer angle)\n",
    "* L - wheel base\n",
    "* steer_limit - Steer limits (in radians) for the control signal"
   ]
  },
  {
   "cell_type": "markdown",
   "metadata": {},
   "source": [
    "Arguments to the controller is provided in a dictionary like this"
   ]
  },
  {
   "cell_type": "code",
   "execution_count": 5,
   "metadata": {},
   "outputs": [],
   "source": [
    "opts = {\n",
    "    'h_p': 10, \n",
    "    'gamma_d': 1,\n",
    "    'gamma_theta': 1,\n",
    "    'gamma_u': 1,\n",
    "    'L': 2,  # Nominally, use the same as in the car\n",
    "    'steer_limit': np.pi / 4  # Nominally, use the same in the car\n",
    "}"
   ]
  },
  {
   "cell_type": "code",
   "execution_count": null,
   "metadata": {},
   "outputs": [],
   "source": [
    "class ModelPredictiveController(ControllerBase):\n",
    "    def __init__(self, controller_params, path=None, goal_tol=1, dt=0.1):\n",
    "        super().__init__()\n",
    "        \n",
    "        self.plan = path\n",
    "        self.gamma_d = controller_params['gamma_d']\n",
    "        self.gamma_theta = controller_params['gamma_theta']\n",
    "        self.gamma_u = controller_params['gamma_u']\n",
    "        self.L = controller_params['L']\n",
    "        self.steer_limit = controller_params['steer_limit']\n",
    "\n",
    "        self.sample_rate = dt\n",
    "        self.prediction_horizon = controller_params['h_p']\n",
    "        self.N = int(self.prediction_horizon / dt)\n",
    "        \n",
    "        self.goal_tol = goal_tol\n",
    "        self.d = []\n",
    "        self.s0 = 0\n",
    "        self.optimizer = self.construct_problem()\n",
    "\n",
    "    def heading_error(self, theta, s):\n",
    "        \"\"\"Compute theta error\n",
    "        Inputs\n",
    "            theta - current heading angle\n",
    "            s - projection point on path\n",
    "            \n",
    "        Outputs\n",
    "            theta_e - heading error angle\n",
    "        \"\"\"\n",
    "        \n",
    "        # YOUR CODE HERE\n",
    "        # Use your code from state-feedback controller in the basic exercise\n",
    "\n",
    "        theta_e = 0.0\n",
    "        return theta_e\n",
    "        \n",
    "    def construct_problem(self):\n",
    "        \"\"\"Formulate optimal control problem\"\"\"\n",
    "        \n",
    "        dt = self.sample_rate\n",
    "        \n",
    "        # Create an casadi.Opti instance.\n",
    "        opti = casadi.Opti('conic')\n",
    "        \n",
    "        d0 = opti.parameter()\n",
    "        th0 = opti.parameter()\n",
    "        v = opti.parameter()\n",
    "        curvature = opti.parameter(self.N)\n",
    "        \n",
    "        X = opti.variable(2, self.N + 1)\n",
    "        proj_error = X[0, :]\n",
    "        head_error = X[1, :]\n",
    "        \n",
    "        # Control variable (steering angle)\n",
    "        Delta = opti.variable(self.N)\n",
    "\n",
    "        # Goal function we wish to minimize   \n",
    "        ### YOUR CODE HERE ###\n",
    "        # Use the casadi.sumsqr function to compute sum-of-squares\n",
    "        J = 0\n",
    "\n",
    "        opti.minimize(J)\n",
    "         \n",
    "        # Simulate the system forwards using RK4 and the implemented error model.\n",
    "        for k in range(self.N):\n",
    "            k1 = self.error_model(X[:, k], v, Delta[k], curvature[k])\n",
    "            k2 = self.error_model(X[:, k] + dt / 2 * k1, v, Delta[k], curvature[k])\n",
    "            k3 = self.error_model(X[:, k] + dt / 2 * k2, v, Delta[k], curvature[k])\n",
    "            k4 = self.error_model(X[:, k] + dt * k3, v, Delta[k], curvature[k])\n",
    "            x_next = X[:, k] + dt / 6 * (k1 + 2 * k2 + 2 * k3 + k4)\n",
    "            opti.subject_to(X[:, k + 1] == x_next)\n",
    "        \n",
    "        # Problem constraints.\n",
    "        opti.subject_to(proj_error[0] == d0)\n",
    "        opti.subject_to(head_error[0] == th0)\n",
    "        opti.subject_to(opti.bounded(-self.steer_limit, Delta, self.steer_limit))\n",
    "        \n",
    "        # The cost function is quadratic and the problem is linear by design,\n",
    "        # this is utilized when choosing solver.\n",
    "        # Other possible solvers provided by CasADi include: 'qpoases' and 'ipopt'...\n",
    "\n",
    "        opts_dict = {\n",
    "            \"print_iter\": False,\n",
    "            \"print_time\": 0,\n",
    "            \"constr_viol_tol\": 1e-12,\n",
    "            # \"max_iter\": 100\n",
    "        }\n",
    "        \n",
    "        opti.solver('qrqp', opts_dict)\n",
    "        \n",
    "        return opti.to_function('f', [d0, th0, v, curvature], [Delta])\n",
    "        \n",
    "    def error_model(self, w, v, delta, curvature):\n",
    "        \"\"\"Error model describing how the distance and heading error evolve for a certain input\n",
    "            \n",
    "        Input:\n",
    "            w = (d, theta_e)\n",
    "            v - velocity\n",
    "            delta - input, steering angle\n",
    "            curvature - current curvature\n",
    "            \n",
    "        Output:\n",
    "            Casadi vector of Time derivative of d and theta_e\n",
    "        \"\"\"\n",
    "\n",
    "        # YOUR CODE HERE\n",
    "        d_dot = 0\n",
    "        theta_e_dot = 0\n",
    "        \n",
    "        return casadi.vertcat(d_dot, theta_e_dot)\n",
    "\n",
    "    def u(self, t, w):\n",
    "        p_car = w[0:2]\n",
    "        theta = w[2]\n",
    "        v = w[3]\n",
    "        \n",
    "        # Compute d and theta_e errors as in the basic exercise state-feedback controller\n",
    "        # YOUR CODE HERE\n",
    "        d = 0\n",
    "        theta_e = 0\n",
    "        s_i = 0  # Position for start of prediction\n",
    "        \n",
    "        # Solve optimization problem over the prediction-horizon\n",
    "        s_horizon = np.linspace(s_i, s_i + self.N * v * self.sample_rate, self.N)        \n",
    "        Delta = 0  # YOUR CODE HERE, call self.optimizer() with proper arguments\n",
    "        \n",
    "        # Collect the controller output\n",
    "        delta = 0  # YOUR CODE HERE\n",
    "        acc = 0        \n",
    "        self.d.append(d)\n",
    "\n",
    "        return np.array([delta, acc])\n",
    "    \n",
    "    def run(self, t, w):\n",
    "        p_goal = self.plan.path[-1, :]\n",
    "        p_car = w[0:2]\n",
    "        dp = p_car - p_goal\n",
    "        dist = np.sqrt(dp.dot(dp))\n",
    "        if dist < self.goal_tol:\n",
    "            return False\n",
    "        else:\n",
    "            return True"
   ]
  },
  {
   "cell_type": "markdown",
   "metadata": {},
   "source": [
    "Simulate"
   ]
  },
  {
   "cell_type": "code",
   "execution_count": null,
   "metadata": {},
   "outputs": [],
   "source": [
    "opts = {\n",
    "    'h_p': 10, \n",
    "    'gamma_d': 1,\n",
    "    'gamma_theta': 1,\n",
    "    'gamma_u': 1,\n",
    "    'L': car.L,\n",
    "    'steer_limit': np.pi / 4\n",
    "}\n",
    "car = SingleTrackModel().set_attributes({'steer_limit': opts['steer_limit']})\n",
    "\n",
    "mpc = ModelPredictiveController(controller_params=opts, path=SplinePath(p), dt=0.1)\n",
    "car.controller = mpc\n",
    "\n",
    "w0 = [0, 1, np.pi / 2 * 0.9, 2]  # (x, y, theta, v)\n",
    "z_mpc = car.simulate(w0, T=80, dt=mpc.sample_rate, t0=0.0)\n",
    "print(f'Total time in controller: {mpc.u_time:.2f} sek')"
   ]
  },
  {
   "cell_type": "code",
   "execution_count": null,
   "metadata": {},
   "outputs": [],
   "source": []
  }
 ],
 "metadata": {
  "kernelspec": {
   "display_name": "Python 3 (ipykernel)",
   "language": "python",
   "name": "python3"
  },
  "language_info": {
   "codemirror_mode": {
    "name": "ipython",
    "version": 3
   },
   "file_extension": ".py",
   "mimetype": "text/x-python",
   "name": "python",
   "nbconvert_exporter": "python",
   "pygments_lexer": "ipython3",
   "version": "3.8.1"
  }
 },
 "nbformat": 4,
 "nbformat_minor": 4
}
