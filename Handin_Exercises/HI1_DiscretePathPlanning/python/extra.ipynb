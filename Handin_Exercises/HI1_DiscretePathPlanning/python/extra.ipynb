{
 "cells": [
  {
   "cell_type": "markdown",
   "metadata": {},
   "source": [
    "# TSFS12 Hand-in exercise 1, extra assignment: Discrete planning in structured road networks"
   ]
  },
  {
   "cell_type": "markdown",
   "metadata": {},
   "source": [
    "Do initial imports of packages needed"
   ]
  },
  {
   "cell_type": "code",
   "execution_count": 1,
   "metadata": {},
   "outputs": [],
   "source": [
    "import matplotlib.pyplot as plt\n",
    "from misc import Timer, latlong_distance\n",
    "from osm import load_osm_map\n",
    "import numpy as np"
   ]
  },
  {
   "cell_type": "code",
   "execution_count": 2,
   "metadata": {},
   "outputs": [
    {
     "name": "stdout",
     "output_type": "stream",
     "text": [
      "Using matplotlib backend: Qt5Agg\n"
     ]
    }
   ],
   "source": [
    "# %matplotlib  # Run if you want plots in external windows"
   ]
  },
  {
   "cell_type": "code",
   "execution_count": null,
   "metadata": {},
   "outputs": [],
   "source": [
    "# Run the ipython magic below to activate automated import of modules. Useful if you write code in external .py files.\n",
    "# %load_ext autoreload\n",
    "# %autoreload 2"
   ]
  },
  {
   "cell_type": "markdown",
   "metadata": {},
   "source": [
    "# Load map, define state transition function, and heuristic for Astar"
   ]
  },
  {
   "cell_type": "code",
   "execution_count": 4,
   "metadata": {},
   "outputs": [],
   "source": [
    "osm_file = 'linkoping.osm'\n",
    "fig_file = 'linkoping.png'\n",
    "osm_map = load_osm_map(osm_file, fig_file)  # Defaults loads files from ../Maps\n",
    "\n",
    "num_nodes = len(osm_map.nodes)  # Number of nodes in the map"
   ]
  },
  {
   "cell_type": "markdown",
   "metadata": {},
   "source": [
    "Define function to compute possible next nodes from node x and the corresponding distances distances."
   ]
  },
  {
   "cell_type": "code",
   "execution_count": 4,
   "metadata": {},
   "outputs": [],
   "source": [
    "def f_next(x):\n",
    "    \"\"\"Compute, neighbours for a node\"\"\"\n",
    "    cx = osm_map.distancematrix[x, :].tocoo()\n",
    "    return cx.col, np.full(cx.col.shape, np.nan), cx.data"
   ]
  },
  {
   "cell_type": "code",
   "execution_count": 5,
   "metadata": {},
   "outputs": [],
   "source": [
    "def heuristic(x, xg):\n",
    "    # YOUR CODE HERE\n",
    "    p_x = osm_map.nodeposition[x]\n",
    "    p_g = osm_map.nodeposition[xg]\n",
    "    return 0.0"
   ]
  },
  {
   "cell_type": "markdown",
   "metadata": {},
   "source": [
    "# Define planning missions with same goal node"
   ]
  },
  {
   "cell_type": "markdown",
   "metadata": {},
   "source": [
    "Predefined planning missions with the same goal node that you can use. You are welcome to experiment with other missions."
   ]
  },
  {
   "cell_type": "code",
   "execution_count": 6,
   "metadata": {},
   "outputs": [],
   "source": [
    "missions = [\n",
    "    {'start': {'id': 10906}, 'goal': {'id': 1024}},\n",
    "    {'start': {'id': 3987}, 'goal': {'id': 1024}},\n",
    "    {'start': {'id': 423}, 'goal': {'id': 1024}}]"
   ]
  },
  {
   "cell_type": "markdown",
   "metadata": {},
   "source": [
    "# Exercises"
   ]
  },
  {
   "cell_type": "code",
   "execution_count": null,
   "metadata": {},
   "outputs": [],
   "source": []
  }
 ],
 "metadata": {
  "kernelspec": {
   "display_name": "Python 3 (ipykernel)",
   "language": "python",
   "name": "python3"
  },
  "language_info": {
   "codemirror_mode": {
    "name": "ipython",
    "version": 3
   },
   "file_extension": ".py",
   "mimetype": "text/x-python",
   "name": "python",
   "nbconvert_exporter": "python",
   "pygments_lexer": "ipython3",
   "version": "3.9.0"
  }
 },
 "nbformat": 4,
 "nbformat_minor": 4
}
